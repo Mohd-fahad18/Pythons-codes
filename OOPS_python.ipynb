{
  "nbformat": 4,
  "nbformat_minor": 0,
  "metadata": {
    "colab": {
      "private_outputs": true,
      "provenance": [],
      "authorship_tag": "ABX9TyO0ZdEsfvZ+ix/KVii5XPcn",
      "include_colab_link": true
    },
    "kernelspec": {
      "name": "python3",
      "display_name": "Python 3"
    },
    "language_info": {
      "name": "python"
    }
  },
  "cells": [
    {
      "cell_type": "markdown",
      "metadata": {
        "id": "view-in-github",
        "colab_type": "text"
      },
      "source": [
        "<a href=\"https://colab.research.google.com/github/Mohd-fahad18/Pythons-codes/blob/main/OOPS_python.ipynb\" target=\"_parent\"><img src=\"https://colab.research.google.com/assets/colab-badge.svg\" alt=\"Open In Colab\"/></a>"
      ]
    },
    {
      "cell_type": "markdown",
      "source": [
        "#Class and Object"
      ],
      "metadata": {
        "id": "DvWJmpIPYMM3"
      }
    },
    {
      "cell_type": "code",
      "execution_count": null,
      "metadata": {
        "id": "t05rMPnZYDQP"
      },
      "outputs": [],
      "source": [
        "#1\n",
        "class Greeting:\n",
        "  msg = \"Hello , World!\"\n",
        "\n",
        "  def say_hello(self):\n",
        "    print(self.msg)\n",
        "\n",
        "greet = Greeting()\n",
        "greet.say_hello()\n",
        "\n",
        "# 2\n",
        "class student:\n",
        "  msgg =\" I am student\"\n",
        "\n",
        "  def say_h(Me):\n",
        "    print(Me.msgg)\n",
        "\n",
        "stud = student()\n",
        "stud.say_h()\n"
      ]
    },
    {
      "cell_type": "code",
      "source": [
        "a = int(input(\"enter the no 1 :\"))\n",
        "b = int(input(\"enter the no 2 :\"))\n",
        "\n",
        "class sum:\n",
        "  x = a+b\n",
        "\n",
        "  def xyz(self):\n",
        "    print(self.x)\n",
        "\n",
        "add = sum()\n",
        "add.xyz()"
      ],
      "metadata": {
        "id": "R0O8CWb5ZWFo"
      },
      "execution_count": null,
      "outputs": []
    },
    {
      "cell_type": "code",
      "source": [
        "class person:\n",
        "  def __init__(self,name,age,gender):\n",
        "    self.name = name\n",
        "    self.age = age\n",
        "    self.gender = gender\n",
        "\n",
        "  def show_details(self):\n",
        "    print(\"the name is {} , age is {} and gender is {} \".format(self.name,self.age,self.gender))\n",
        "\n",
        "p1 = person(\"Fahad\",20,\"Male\")\n",
        "p1.show_details()\n"
      ],
      "metadata": {
        "id": "xXhzrwARafJp"
      },
      "execution_count": null,
      "outputs": []
    },
    {
      "cell_type": "code",
      "source": [
        "class Employee:\n",
        "  office_name = \"GOOGLE\"\n",
        "\n",
        "  def __init__(self,name,designation):\n",
        "    self.name = name\n",
        "    self.designation = designation\n",
        "\n",
        "  def show_details(self):\n",
        "    print(f\"Company name: {Employee.office_name} \\nName: {self.name}\\nDesignation :{self.designation}\")\n",
        "\n",
        "emp = Employee(\"Fahad\",\"Student\")\n",
        "emp.show_details()"
      ],
      "metadata": {
        "id": "qI9GyBBjdaMX"
      },
      "execution_count": null,
      "outputs": []
    },
    {
      "cell_type": "code",
      "source": [
        "class Person:\n",
        "  def __init__(default,name,age):\n",
        "    default.name = name\n",
        "    default.age = age\n",
        "\n",
        "  def myfunc(abc):\n",
        "    print(\"Hello my name is \" +abc.name)\n",
        "\n",
        "p1 = Person(\"John\",36)\n",
        "p1.myfunc()"
      ],
      "metadata": {
        "id": "Pi9Fa64ohMDI"
      },
      "execution_count": null,
      "outputs": []
    },
    {
      "cell_type": "markdown",
      "source": [
        "# Str Method"
      ],
      "metadata": {
        "id": "IRogSaGymLxG"
      }
    },
    {
      "cell_type": "code",
      "source": [
        "class Person:\n",
        "  def __init__(self,name,age):\n",
        "     self.name = name\n",
        "     self.age = age\n",
        "\n",
        "  def __str__(self):\n",
        "    return F\"the name is {self.name} and age is {self.age}\"\n",
        "\n",
        "p = Person(\"Amit\",35)\n",
        "print(p)"
      ],
      "metadata": {
        "id": "Z0lA3zLjkCL2"
      },
      "execution_count": null,
      "outputs": []
    },
    {
      "cell_type": "markdown",
      "source": [
        "# Employee Details and updation"
      ],
      "metadata": {
        "id": "GCJZ8q0ahnLr"
      }
    },
    {
      "cell_type": "code",
      "source": [
        "class Employee:\n",
        "  #__init__ method to initialize the object attributes\n",
        "  def __init__(self,name,position,salary) :\n",
        "    self.name = name\n",
        "    self.position = position\n",
        "    self.salary = salary\n",
        "\n",
        "  #instance method to display employee details\n",
        "  def display_details(self):\n",
        "    print(f\"Employee Details:\\nName: {self.name}\\nPosition:{self.position} \\nsalary :{self.salary}\")\n",
        "\n",
        "  #instance method to give a rise to the emplyee\n",
        "  def give_rise(self,amount):\n",
        "    self.salary += amount\n",
        "    print(f\"{self.name} received a rise of {amount}. New salary is {self.salary}\")\n",
        "\n",
        "  #Instance method to update employee position\n",
        "  def update_position(self,new_position):\n",
        "    self.position = new_position\n",
        "    print(f\"{self.name}'s new postion to {self.position}\")\n",
        "\n",
        "#create an instance of employee\n",
        "employee_1 = Employee(\"Alice\",\"software engineer\",7000)\n",
        "\n",
        "#display emplyee details\n",
        "employee_1.display_details()\n",
        "\n",
        "#giving a raise to the employee using instance method\n",
        "employee_1.give_rise(5000)\n",
        "\n",
        "#update the employee's position using an instance method\n",
        "employee_1.update_position(\"Senior software Engineer\")\n",
        "\n",
        "\n"
      ],
      "metadata": {
        "id": "aj8E4ITJm8aG"
      },
      "execution_count": null,
      "outputs": []
    },
    {
      "cell_type": "markdown",
      "source": [
        "# @classmethod"
      ],
      "metadata": {
        "id": "8n2UoqRQnn-E"
      }
    },
    {
      "cell_type": "code",
      "source": [
        "class student:\n",
        "  counter = 0\n",
        "  def __init__(self,name,marks):\n",
        "    self.name = name\n",
        "    self.marks = marks\n",
        "    student.counter = student.counter + 1\n",
        "  def msg(self):\n",
        "    print(\"Hello \"+self.name + \"you got \",self.marks,\"%marks\")\n",
        "  @classmethod\n",
        "  def object_count(cls):\n",
        "    return cls.counter\n",
        "s1 = student(\"Abhishek\",65)\n",
        "s2 = student(\"Amit\",89)\n",
        "print(student.object_count())\n",
        "print(s1.object_count())\n",
        "\n"
      ],
      "metadata": {
        "id": "xoM3ov9udJHh"
      },
      "execution_count": null,
      "outputs": []
    },
    {
      "cell_type": "markdown",
      "source": [
        "# @staticmethod"
      ],
      "metadata": {
        "id": "LykCYyRGnh8q"
      }
    },
    {
      "cell_type": "code",
      "source": [
        "class MathOperations:\n",
        "  @staticmethod\n",
        "  def add_numbers(a , b):\n",
        "        #function Body\n",
        "    return a + b\n",
        "\n",
        "  @staticmethod\n",
        "  def substract_numbers(a , b):\n",
        "    return a - b\n",
        "\n",
        "obj = MathOperations()\n",
        "result_add = MathOperations.add_numbers(10,5)  #called by class name\n",
        "result_substract = obj.substract_numbers(10,5)  #called by object name\n",
        "\n",
        "print(f\"Addition: {result_add}\")\n",
        "print(f\"Substraction: {result_substract}\")\n"
      ],
      "metadata": {
        "id": "GkSzh4mGj8lp"
      },
      "execution_count": null,
      "outputs": []
    },
    {
      "cell_type": "code",
      "source": [
        "class student:\n",
        "  def __init__(self):\n",
        "    print(\"this is defalut constrtuctor \")\n",
        "  def show(self , name):\n",
        "    print(\"Hello\",name)\n",
        "students=student()\n",
        "students.show(\"Amit\")"
      ],
      "metadata": {
        "id": "eut5V2mzo6sl"
      },
      "execution_count": null,
      "outputs": []
    },
    {
      "cell_type": "markdown",
      "source": [
        "# Parameterise constructor Eg"
      ],
      "metadata": {
        "id": "Oo1PLfCvrtLg"
      }
    },
    {
      "cell_type": "code",
      "source": [
        "class addition:\n",
        "  first = 0\n",
        "  second = 0\n",
        "  answer = 0\n",
        "  def __init__(self,f,s):\n",
        "    self.first = f\n",
        "    self.second = s\n",
        "  def display(self):\n",
        "    print(\"First number = :\",self.first)\n",
        "    print(\"Second number = :\",self.second)\n",
        "    print(\"Additon of 2 number = :\",self.answer)\n",
        "\n",
        "  def calculate(self):\n",
        "    self.answer = self.first + self.second\n",
        "obj = addition(1000,2000)\n",
        "obj.calculate()\n",
        "obj.display()"
      ],
      "metadata": {
        "id": "FgUp4Bp8rp6J"
      },
      "execution_count": null,
      "outputs": []
    },
    {
      "cell_type": "code",
      "source": [
        "st = '10'\n",
        "x = st +'5'\n",
        "print(x)"
      ],
      "metadata": {
        "id": "l9OAgXpJ0cAl"
      },
      "execution_count": null,
      "outputs": []
    },
    {
      "cell_type": "code",
      "source": [
        "st = '10'\n",
        "x = st.__add__('5')\n",
        "print(x)"
      ],
      "metadata": {
        "id": "6eeJ59URZQsj"
      },
      "execution_count": null,
      "outputs": []
    },
    {
      "cell_type": "code",
      "source": [
        "class Mass:\n",
        "  def __init__(self, kg = 0, g=0):\n",
        "    self.kg = kg+g//1000\n",
        "    self.g = g%1000\n",
        "\n",
        "  def __add__(self,other):\n",
        "    total_kg =self.kg+other.kg\n",
        "    total_g = self.g+other.g\n",
        "\n",
        "    if total_g>=1000:\n",
        "      total_kg += total_g//1000\n",
        "      total_g = total_g%1000\n",
        "    return Mass(total_kg,total_g)\n",
        "  def __repr__(self):\n",
        "    return f\"{self.kg} Kg and {self.g} g\"\n",
        "mass1 = Mass(3,500)\n",
        "mass2 = Mass(5,800)\n",
        "\n",
        "mass3 = mass1 + mass2\n",
        "print(mass3)"
      ],
      "metadata": {
        "id": "G1rJ4hkNZhOi"
      },
      "execution_count": null,
      "outputs": []
    },
    {
      "cell_type": "code",
      "source": [
        "class Distance:\n",
        "  def __init__(self, Km = 0, m=0):\n",
        "    self.Km = Km+m//1000\n",
        "    self.m = m%1000\n",
        "\n",
        "  def __add__(self,other):\n",
        "    total_Km =self.Km+other.Km\n",
        "    total_m = self.m+other.m\n",
        "\n",
        "    if total_m>=1000:\n",
        "      total_Km +=total_m//1000\n",
        "      total_m = total_m%1000\n",
        "    return Distance(total_Km,total_m)\n",
        "  def __repr__(self):\n",
        "    return f\"{self.Km} Km and {self.m} m\"\n",
        "Distance1 = Distance(4,500)\n",
        "Distance2 = Distance(6,300)\n",
        "\n",
        "Distance3 = Distance1 + Distance2\n",
        "print(Distance3)"
      ],
      "metadata": {
        "id": "hPyIjfBneO0j"
      },
      "execution_count": null,
      "outputs": []
    },
    {
      "cell_type": "code",
      "source": [
        "class Person:\n",
        "  def __init__(self,name,age):\n",
        "    self.name = name\n",
        "    self.age = age\n",
        "  def __str__(self):\n",
        "    return f\"The name is {self.name} and age is {self.age}\"\n",
        "\n",
        "p = Person(\"Mohit\",35)\n",
        "print(p)"
      ],
      "metadata": {
        "id": "ucWjvJM9jShR"
      },
      "execution_count": null,
      "outputs": []
    },
    {
      "cell_type": "code",
      "source": [
        "import math\n",
        "class fraction:\n",
        "    def _init_(self,numerator,denominator):\n",
        "        self.numerator=numerator\n",
        "        self.denominator=denominator\n",
        "        self.simplify()\n",
        "    def simplify(self):\n",
        "        common_divisor=math.gcd(self.numerator,self.denominator)\n",
        "        self.numerator=self.numerator//common_divisor\n",
        "        self.denominator=self.denominator//common_divisor\n",
        "    def _add_(self,other):\n",
        "        new_numerator=self.numerator*other.denominator+other.numerator*self.denominator\n",
        "        new_denominator=self.denominator*other.denominator\n",
        "        return fraction(new_numerator,new_denominator)\n",
        "    def _eq_(self,other):\n",
        "        return self.numerator*other.denominator==self.denominator*other.numerator\n",
        "    def _repr_(self):\n",
        "        return f\"{self.numerator}/{self.denominator}\"\n",
        "f1 = fraction(1, 2)\n",
        "f2 = fraction(1, 3)\n",
        "f3 = f1 + f2\n",
        "print(f1+f2) # Output: 5/6\n",
        "print(f1) # Output: 1/2"
      ],
      "metadata": {
        "id": "9qPOJq8podXA"
      },
      "execution_count": null,
      "outputs": []
    },
    {
      "cell_type": "markdown",
      "source": [
        "# Pattern question"
      ],
      "metadata": {
        "id": "SDTKZygJm1b-"
      }
    },
    {
      "cell_type": "code",
      "source": [
        "n = int(input(\"Enter the no of rows :\"))\n",
        "\n",
        "for i in range(n):\n",
        "  for j in range(n):\n",
        "    print(\"*\",end=\"\")\n",
        "  print()"
      ],
      "metadata": {
        "id": "BO7xK6mKyfVL"
      },
      "execution_count": null,
      "outputs": []
    },
    {
      "cell_type": "code",
      "source": [
        "n = int(input(\"Enter the no of rows :\"))\n",
        "\n",
        "for i in range(n):\n",
        "  for j in range(i,n):\n",
        "    print(\"*\",end=\" \")\n",
        "  print()"
      ],
      "metadata": {
        "id": "CxHdhjzYnbwJ"
      },
      "execution_count": null,
      "outputs": []
    },
    {
      "cell_type": "code",
      "source": [
        "n = 5\n",
        "\n",
        "for i in range(n):\n",
        "  for j in range(i,n):\n",
        "    print(\"*\",end=\" \")\n",
        "\n",
        "  for j in range(i):\n",
        "      print(\" \",end=\" \")\n",
        "\n",
        "  for j in range(i):\n",
        "      print(\" \",end=\" \")\n",
        "\n",
        "  for j in range(i,n):\n",
        "      print(\"*\",end=\" \")\n",
        "  print()"
      ],
      "metadata": {
        "id": "QLWKv6MloVIL"
      },
      "execution_count": null,
      "outputs": []
    },
    {
      "cell_type": "code",
      "source": [
        "n=5\n",
        "for i in range(n):\n",
        "  for j in range(i,n):\n",
        "    print(\" \",end=\" \")\n",
        "\n",
        "  for j in range(i):\n",
        "      print(\"*\",end=\" \")\n",
        "\n",
        "  for j in range(i+1):\n",
        "      print(\"*\",end=\" \")\n",
        "\n",
        "  for j in range(i,n):\n",
        "      print(\" \",end=\" \")\n",
        "\n",
        "  print()\n",
        "for i in range(n):\n",
        "  for j in range(i,n):\n",
        "    print(\" \",end=\" \")\n",
        "\n",
        "  for j in range(i):\n",
        "      print(\"*\",end=\" \")\n",
        "\n",
        "  for j in range(i+1):\n",
        "      print(\"*\",end=\" \")\n",
        "\n",
        "  for j in range(i,n):\n",
        "      print(\" \",end=\" \")\n",
        "  print()\n",
        "\n",
        "for i in range(4):\n",
        "  for j in range(5):\n",
        "    print(\" \",end=\" \")\n",
        "  for j in range(1):\n",
        "    print(\"*\",end=\" \")\n",
        "  print()\n",
        "\n",
        "for i in range(1):\n",
        "  for j in range(11):\n",
        "    print(\"*\",end=\" \")\n",
        "\n",
        "  print()\n"
      ],
      "metadata": {
        "id": "wJgHg1ATpHZs"
      },
      "execution_count": null,
      "outputs": []
    },
    {
      "cell_type": "code",
      "source": [
        "n = 7\n",
        "\n",
        "for i in range(n):\n",
        "  for j in range(i,n):\n",
        "    print(\" \",end=\" \")\n",
        "\n",
        "  for j in range(i+1):\n",
        "      print(\"*\",end=\" \")\n",
        "\n",
        "  for j in range(i):\n",
        "      print(\"*\",end=\" \")\n",
        "\n",
        "  for j in range(i,n-1):\n",
        "      print(\" \",end=\" \")\n",
        "#xyz\n",
        "  for j in range(i,n):\n",
        "    print(\" \",end=\" \")\n",
        "\n",
        "  for j in range(i+1):\n",
        "\n",
        "      print(\"*\",end=\" \")\n",
        "\n",
        "  for j in range(i):\n",
        "      print(\"*\",end=\" \")\n",
        "\n",
        "  for j in range(i,n):\n",
        "      print(\" \",end=\" \")\n",
        "  print()"
      ],
      "metadata": {
        "id": "0dwhkbwHr88u"
      },
      "execution_count": null,
      "outputs": []
    },
    {
      "cell_type": "code",
      "source": [
        "n=10\n",
        "\n",
        "for i in range(n+1):\n",
        "  for j in range(i,n):\n",
        "    print(\" \",end=\" \")\n",
        "\n",
        "  for j in range(i):\n",
        "      print(\"*\",end=\" \")\n",
        "\n",
        "  for j in range(i-1):\n",
        "      print(\"*\",end=\" \")\n",
        "\n",
        "  for j in range(i,n):\n",
        "      print(\" \",end=\" \")\n",
        "  print()\n",
        "\n",
        "for i in range(n+1):\n",
        "  for j in range(i+1):\n",
        "    print(\" \",end=\" \")\n",
        "\n",
        "  for j in range(i,n-1):\n",
        "    print(\"*\",end=\" \")\n",
        "\n",
        "  for j in range(i,n-2):\n",
        "    print(\"*\",end=\" \")\n",
        "\n",
        "\n",
        "\n",
        "  print()"
      ],
      "metadata": {
        "id": "09XOH3F4uUVV"
      },
      "execution_count": null,
      "outputs": []
    },
    {
      "cell_type": "markdown",
      "source": [
        "# Local Namespace"
      ],
      "metadata": {
        "id": "cJiZ43b95Epo"
      }
    },
    {
      "cell_type": "code",
      "source": [
        "def my_function():\n",
        "  x = 5\n",
        "  print(x)\n",
        "\n",
        "my_function()\n"
      ],
      "metadata": {
        "id": "pGN5_dU2ydF_"
      },
      "execution_count": null,
      "outputs": []
    },
    {
      "cell_type": "code",
      "source": [
        "def outer_function():\n",
        "  x=20\n",
        "\n",
        "  def inner_function():\n",
        "    print(x)\n",
        "\n",
        "  inner_function()\n",
        "\n",
        "outer_function()"
      ],
      "metadata": {
        "id": "IHL_x1Nw49S6"
      },
      "execution_count": null,
      "outputs": []
    },
    {
      "cell_type": "code",
      "source": [
        "x = 50\n",
        "def my_function():\n",
        "  print(x)\n",
        "\n",
        "my_function()\n",
        "print(x)"
      ],
      "metadata": {
        "id": "QzPn7GH455xy"
      },
      "execution_count": null,
      "outputs": []
    },
    {
      "cell_type": "code",
      "source": [
        "class Myclass :\n",
        "  def __init__(self,x,y):\n",
        "    self.x = x\n",
        "    self.y = y\n",
        "  def display(self):\n",
        "    print(self.x)\n",
        "    print(self.y)\n",
        "\n",
        "obj = Myclass(5,8)\n",
        "obj.display()\n",
        "\n",
        "\n"
      ],
      "metadata": {
        "id": "0mjvwDAL8NMT"
      },
      "execution_count": null,
      "outputs": []
    },
    {
      "cell_type": "markdown",
      "source": [
        "# Inheritance\n",
        "\n",
        "able to ACCESS THE data and method of another class\n",
        "\n",
        "parent class --> super class } use by child class\n",
        "\n",
        "\n",
        "#Polymohism\n",
        "1)ability to have different methods with same name but perform different task\n",
        "\n",
        "2) can achieve through method overriding or method overloading\n",
        "\n",
        "3)Method overriding is subclass having a different\n",
        "\n",
        "All classes in python are built from single super class called object\n",
        "\n",
        "EXAMPLE :\n",
        "\n",
        "class Parentclass: we access PC var and methods using CC obj.\n",
        "\n",
        "class Childclass:"
      ],
      "metadata": {
        "id": "A653eHrsET4n"
      }
    },
    {
      "cell_type": "code",
      "source": [
        "\n",
        "class Father:\n",
        "  money = 1000\n",
        "  def show(self):\n",
        "    print(\"Parent class instance method\")\n",
        "  @classmethod\n",
        "  def moneyshow(cls):\n",
        "    print(\"Parent class method : total money = \",cls.money)\n",
        "\n",
        "  @staticmethod\n",
        "  def stat_method():\n",
        "    a=5\n",
        "    print(\"Parent class stats method : the value of a is \",a)\n",
        "\n",
        "class Son(Father):\n",
        "  def son_display(self):\n",
        "    print(\"Child class instance method :\")\n",
        "\n",
        "s = Son()\n",
        "s.show()\n",
        "s.moneyshow()\n",
        "s.stat_method()\n",
        "s.son_display()"
      ],
      "metadata": {
        "id": "98BouR9-YsXo"
      },
      "execution_count": null,
      "outputs": []
    },
    {
      "cell_type": "code",
      "source": [
        "class Person:\n",
        "  def __init__(self,fname,lname):\n",
        "    self.fname = fname\n",
        "    self.lname = lname\n",
        "    print(\"first name is {} and last name is {}\".format(self.fname,self.lname))\n",
        "\n",
        "class Student(Person):\n",
        "    pass\n",
        "\n",
        "s = Student(\"Sachin\",\"Kumar\")"
      ],
      "metadata": {
        "id": "WpV9RBHuCepF"
      },
      "execution_count": null,
      "outputs": []
    },
    {
      "cell_type": "code",
      "source": [
        "class Person:\n",
        "  def __init__(self,fname,lname):\n",
        "    self.fname = fname\n",
        "    self.lname = lname\n",
        "    print(\"first name is {} and last name is {}\".format(self.fname,self.lname))\n",
        "\n",
        "class Student(Person):\n",
        "    def __init__(self,fname,lname):\n",
        "      print(\"Inside Student class init\")\n",
        "\n",
        "s = Student(\"Mohit\",\"Kumar\")"
      ],
      "metadata": {
        "id": "vwA5Xpd53jRR"
      },
      "execution_count": null,
      "outputs": []
    },
    {
      "cell_type": "code",
      "source": [
        "class Person:\n",
        "  def __init__(self,fname,lname):\n",
        "    self.fname = fname\n",
        "    self.lname = lname\n",
        "    print(\"first name is {} and last name is {}\".format(self.fname,self.lname))\n",
        "\n",
        "class Student(Person):\n",
        "    def __init__(self,fname,lname):\n",
        "      super().__init__(fname,lname)\n",
        "      print(\"Inside Student class init\")\n",
        "\n",
        "s = Student(\"Mohit\",\"Kumar\")"
      ],
      "metadata": {
        "id": "oS-FLasi8h7X"
      },
      "execution_count": null,
      "outputs": []
    },
    {
      "cell_type": "markdown",
      "source": [
        "# Multi class inheritance"
      ],
      "metadata": {
        "id": "oR-rAioMG8ey"
      }
    },
    {
      "cell_type": "code",
      "source": [
        "class Father:\n",
        "  def __init__(self):\n",
        "    print(\"Father class constructor\")\n",
        "  def show_Father(self):\n",
        "    print(\"Father class method\")\n",
        "\n",
        "class son(Father):\n",
        "  def __init__(self):\n",
        "    print(\"Son class constructor\")\n",
        "  def show_son(self):\n",
        "    print(\"Son class method\")\n",
        "\n",
        "class grandson(son):\n",
        "  def __init__(self):\n",
        "    print(\"Grandson class constructor\")\n",
        "  def show_grandson(self):\n",
        "    print(\"grandson class method\")\n",
        "\n",
        "g = grandson()\n",
        "g.show_grandson()\n",
        "g.show_son()\n",
        "g.show_Father()"
      ],
      "metadata": {
        "id": "IHEe6CsWBycf"
      },
      "execution_count": null,
      "outputs": []
    },
    {
      "cell_type": "markdown",
      "source": [
        "# Multiple class"
      ],
      "metadata": {
        "id": "eLUIisK5MYJ1"
      }
    },
    {
      "cell_type": "code",
      "source": [
        "class Father:\n",
        "  def __init__(self):\n",
        "    print(\"Father class constructor\")\n",
        "  def show_Father(self):\n",
        "    print(\"Father class method\")\n",
        "\n",
        "class Mother:\n",
        "  def __init__(self):\n",
        "    print(\"Mother class constructor\")\n",
        "  def show_Mother(self):\n",
        "    print(\"Mother class method\")\n",
        "\n",
        "class son(Father,Mother):\n",
        "  def __init__(self):\n",
        "    print(\"Son class constructor\")\n",
        "  def show_son(self):\n",
        "    print(\"Son class method\")\n",
        "\n",
        "S = son()\n",
        "S.show_son()\n",
        "S.show_Father()\n",
        "S.show_Mother()\n"
      ],
      "metadata": {
        "id": "5zqCYNWlFzhb"
      },
      "execution_count": null,
      "outputs": []
    },
    {
      "cell_type": "markdown",
      "source": [
        "#issubclass"
      ],
      "metadata": {
        "id": "NeIMxylqMhzU"
      }
    },
    {
      "cell_type": "code",
      "source": [
        "class Parent:\n",
        "  pass\n",
        "class son(Parent):\n",
        "\n",
        "  pass\n",
        "issubclass(son,Parent)"
      ],
      "metadata": {
        "id": "-gEZ-DmDLzqJ"
      },
      "execution_count": null,
      "outputs": []
    },
    {
      "cell_type": "code",
      "source": [
        "class computer:\n",
        "  def __init__(self):\n",
        "    self.__maxprice = 900\n",
        "  def sell(self):\n",
        "    print(\"Selling Price: {}\".format(self.__maxprice))\n",
        "  def setMaxPrice(self,price):\n",
        "    self.__maxprice = price\n",
        "\n",
        "c = computer()\n",
        "c.sell()\n",
        "c.setMaxPrice(1000)\n",
        "c.sell()\n",
        "\n"
      ],
      "metadata": {
        "id": "TqnOjuf_M3j0"
      },
      "execution_count": null,
      "outputs": []
    },
    {
      "cell_type": "code",
      "source": [
        "class Student:\n",
        "  _name = None\n",
        "  _roll = None\n",
        "  _branch = None\n",
        "\n",
        "  def __init__(self,name,roll,branch):\n",
        "    self._name = name\n",
        "    self._roll = roll\n",
        "    self._branch = branch\n",
        "\n",
        "  def _displayInfo(self):\n",
        "    print(\"Roll : \",self._roll)\n",
        "    print(\"Branch : \",self._branch)\n",
        "\n",
        "class Learnowx(Student):\n",
        "  def __init__(self,name,roll,branch):\n",
        "    Student.__init__(self,name,roll,branch)\n",
        "\n",
        "  def displayDetails(self):\n",
        "    print(\"Name: \",self._name)\n",
        "    self._displayInfo()\n",
        "\n",
        "obj = Learnowx(\"Aditya\",101203,\"Data Science\")\n",
        "obj.displayDetails()\n",
        "\n"
      ],
      "metadata": {
        "id": "-wA2Wh9pN-Xv"
      },
      "execution_count": null,
      "outputs": []
    },
    {
      "cell_type": "code",
      "source": [
        "class Student:\n",
        "  __name = None\n",
        "  __roll = None\n",
        "  __branch = None\n",
        "\n",
        "  def __init__(self,name,roll,branch):\n",
        "    self.__name = name\n",
        "    self.__roll = roll\n",
        "    self.__branch = branch\n",
        "\n",
        "  def __displayDetails(self):\n",
        "    print(\"Name : \",self.__name)\n",
        "    print(\"Roll : \",self.__branch)\n",
        "    print(\"Branch : \",self.__branch)\n",
        "\n",
        "  def accessPrivateMethod(self):\n",
        "    self.__displayDetails()\n",
        "\n",
        "obj = Student(\"Deepak\",1010023,\"Information Technology\")\n",
        "obj.accessPrivateMethod()"
      ],
      "metadata": {
        "id": "GxoFN9kBpGzL"
      },
      "execution_count": null,
      "outputs": []
    },
    {
      "cell_type": "code",
      "source": [
        "class MyClass:\n",
        "  __hiddenVar = 12\n",
        "  def add(self,increment):\n",
        "    self.__hiddenVar += increment\n",
        "    print(self.__hiddenVar)\n",
        "myobj = MyClass()\n",
        "myobj.add(3)\n",
        "myobj.add(8)\n",
        "#print(myobj.__hiddenVar)"
      ],
      "metadata": {
        "id": "gskkl5pfsScZ"
      },
      "execution_count": null,
      "outputs": []
    },
    {
      "cell_type": "code",
      "source": [
        "class A:\n",
        "  def method(self):\n",
        "    print(\"Method in A\")\n",
        "\n",
        "class B(A):\n",
        "  def method(self):\n",
        "    print(\"Method in B\")\n",
        "\n",
        "class C(A):\n",
        "  def method(self):\n",
        "    print(\"Method in C\")\n",
        "\n",
        "class D(B,C):\n",
        "  pass\n",
        "\n",
        "d = D()\n",
        "d.method()\n",
        "print(D.mro())"
      ],
      "metadata": {
        "id": "xuIUZcp7uvdY"
      },
      "execution_count": null,
      "outputs": []
    },
    {
      "cell_type": "markdown",
      "source": [
        "#Polymorphism\n",
        "poly - many\n",
        "\n",
        "morphism - forms\n",
        "\n",
        "If   var , obj , method perform diff behaviour acc to situation\n",
        "\n",
        "1) dUCK TYPING\n",
        "\n",
        "2)METHOD OVERLOADING\n",
        "\n",
        "3) OPERATOR OVERLOADING\n",
        "\n",
        "4) METHOD OVER RIDDING"
      ],
      "metadata": {
        "id": "vx9HNPF3yHhA"
      }
    },
    {
      "cell_type": "code",
      "source": [
        "class Duck:\n",
        "  def quack(self):\n",
        "    print(\"Quack\")\n",
        "\n",
        "\n",
        "class person:\n",
        "  def quack(self):\n",
        "    print(\"I'm quacking like a duck\")\n",
        "\n",
        "duck = Duck()\n",
        "person = person()\n",
        "\n",
        "duck.quack()\n",
        "person.quack()"
      ],
      "metadata": {
        "id": "gnXeLBjfwYZI"
      },
      "execution_count": null,
      "outputs": []
    },
    {
      "cell_type": "code",
      "source": [
        "class Bird:\n",
        "  def fly(self):\n",
        "    print('fly with wings')\n",
        "\n",
        "class Airplane:\n",
        "  def fly(self):\n",
        "    print(\"fly with fuel\")\n",
        "\n",
        "class Fish:\n",
        "  def swim(self):\n",
        "    print(\"fish swim in sea\")\n",
        "\n",
        "for obj in Bird(),Airplane():\n",
        "  obj.fly()"
      ],
      "metadata": {
        "id": "INo0_fTf0L8I"
      },
      "execution_count": null,
      "outputs": []
    },
    {
      "cell_type": "code",
      "source": [
        "class Student:\n",
        "  def __init__(self, m1, m2):\n",
        "    self.m1 = m1\n",
        "    self.m2 = m2\n",
        "\n",
        "  def __add__(self,other):\n",
        "    m1 = self.m1 + other.m1\n",
        "    m2 = self.m2 + other.m2\n",
        "    s3 = Student(m1,m2)\n",
        "    return s3\n",
        "\n",
        "s1 = Student(58,59)\n",
        "s2 = Student(60,65)\n",
        "s3 = s1 + s2\n",
        "print(s3.m1)"
      ],
      "metadata": {
        "id": "GARXLHm613YI"
      },
      "execution_count": null,
      "outputs": []
    },
    {
      "cell_type": "code",
      "source": [
        "class Student:\n",
        "  def __init__(self, m1, m2):\n",
        "    self.m1 = m1\n",
        "    self.m2 = m2\n",
        "\n",
        "  def __add__(self,other):\n",
        "    m1 = self.m1 + other.m1\n",
        "    m2 = self.m2 + other.m2\n",
        "    s3 = Student(m1,m2)\n",
        "    return s3\n",
        "\n",
        "  def __mul__(self,other):\n",
        "    m1 = self.m1 * other.m1\n",
        "    m2 = self.m2 * other.m2\n",
        "    s3 = Student(m1,m2)\n",
        "    return s3\n",
        "\n",
        "  def __sub__(self,other):\n",
        "    m1 = self.m1 - other.m1\n",
        "    m2 = self.m2 - other.m2\n",
        "    s3 = Student(m1,m2)\n",
        "    return s3\n",
        "\n",
        "s1 = Student(60,59)\n",
        "s2 = Student(53,65)\n",
        "\n",
        "sadd = s1 + s2\n",
        "print(f\"Addition :\",sadd.m1)\n",
        "smul = s1 * s2\n",
        "print(f\"Multiplication :\",smul.m1)\n",
        "ssub = s1-s2\n",
        "print(f\"Substraction:\",ssub.m1)"
      ],
      "metadata": {
        "id": "lnio17Zf7yaX"
      },
      "execution_count": null,
      "outputs": []
    },
    {
      "cell_type": "code",
      "source": [
        "class Animal:\n",
        "  def speak(self):\n",
        "    print(\"The animal speak\")\n",
        "\n",
        "class Cat(Animal):\n",
        "  def speak(self):\n",
        "    print(\"Meow\")\n",
        "\n",
        "class Dog(Animal):\n",
        "  def speak(self):\n",
        "    print(\"Bark\")\n",
        "\n",
        "a = Animal()\n",
        "c = Cat()\n",
        "d = Dog()\n",
        "\n",
        "c.speak()\n",
        "d.speak()\n",
        "\n",
        "\n",
        "\n",
        "\n"
      ],
      "metadata": {
        "id": "JGgoW3wF87wG"
      },
      "execution_count": null,
      "outputs": []
    },
    {
      "cell_type": "code",
      "source": [
        "from abc import ABC, abstractmethod\n",
        "class computer(ABC):\n",
        "  @abstractmethod\n",
        "  def process(self):\n",
        "    pass\n",
        "  def message(self):\n",
        "    print('Computer is an electronic device')\n",
        "class Laptop(computer):\n",
        "  def process(self):\n",
        "    print(\"Executing Laptop Process\")\n",
        "\n",
        "class Desktop(computer):\n",
        "  def process(self):\n",
        "    print(\"Executed Desktop Process\")\n",
        "\n",
        "com1 = Laptop()\n",
        "com2 = Desktop()\n",
        "com1.process()\n",
        "com2.process()\n"
      ],
      "metadata": {
        "id": "-pszfgICAc_Y"
      },
      "execution_count": null,
      "outputs": []
    },
    {
      "cell_type": "code",
      "source": [],
      "metadata": {
        "id": "wYtt67c8Cj6n"
      },
      "execution_count": null,
      "outputs": []
    }
  ]
}